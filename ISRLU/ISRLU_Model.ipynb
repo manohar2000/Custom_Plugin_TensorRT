{
  "nbformat": 4,
  "nbformat_minor": 0,
  "metadata": {
    "colab": {
      "name": "ISRLU_Model",
      "provenance": [],
      "collapsed_sections": []
    },
    "kernelspec": {
      "name": "python3",
      "display_name": "Python 3"
    },
    "accelerator": "GPU"
  },
  "cells": [
    {
      "cell_type": "code",
      "metadata": {
        "id": "jU6zh3UPI7Sy",
        "colab_type": "code",
        "colab": {}
      },
      "source": [
        "#importing the packages\n",
        "import numpy as np\n",
        "import keras\n",
        "from tensorflow.keras.datasets import mnist\n",
        "from tensorflow.keras.models import Sequential\n",
        "from tensorflow.keras.layers import Dense, Dropout, Flatten, Conv2D, MaxPooling2D, Activation\n",
        "from keras import backend as K\n",
        "from keras.preprocessing import image\n",
        "from keras.applications.mobilenet import MobileNet\n",
        "from keras.applications.vgg16 import preprocess_input, decode_predictions\n",
        "from keras.models import Model\n",
        "import timeit\n",
        "import math\n",
        "import warnings\n",
        "import tensorflow as tf\n",
        "from keras.utils.generic_utils import get_custom_objects\n",
        "warnings.filterwarnings('ignore')\n",
        "#tf.enable_eager_execution()"
      ],
      "execution_count": 0,
      "outputs": []
    },
    {
      "cell_type": "code",
      "metadata": {
        "id": "lDwyCcEbI-pj",
        "colab_type": "code",
        "outputId": "02688863-b35f-45ef-a2f9-44c2c4a3d0ee",
        "colab": {
          "base_uri": "https://localhost:8080/",
          "height": 68
        }
      },
      "source": [
        "#preparing the dataset\n",
        "batch_size = 128\n",
        "num_classes = 10\n",
        "epochs = 15\n",
        "\n",
        "# input image dimensions\n",
        "img_rows, img_cols = 28, 28\n",
        "\n",
        "# the data, shuffled and split between train and test sets\n",
        "(x_train, y_train), (x_test, y_test) = mnist.load_data()\n",
        "\n",
        "if K.image_data_format() == 'channels_first':\n",
        "    x_train = x_train.reshape(x_train.shape[0], 1, img_rows, img_cols)\n",
        "    x_test = x_test.reshape(x_test.shape[0], 1, img_rows, img_cols)\n",
        "    input_shape = (1, img_rows, img_cols)\n",
        "else:\n",
        "    x_train = x_train.reshape(x_train.shape[0], img_rows, img_cols, 1)\n",
        "    x_test = x_test.reshape(x_test.shape[0], img_rows, img_cols, 1)\n",
        "    input_shape = (img_rows, img_cols, 1)\n",
        "\n",
        "x_train = x_train.astype('float32')\n",
        "x_test = x_test.astype('float32')\n",
        "x_train /= 255\n",
        "x_test /= 255\n",
        "print('x_train shape:', x_train.shape)\n",
        "print(x_train.shape[0], 'train samples')\n",
        "print(x_test.shape[0], 'test samples')\n",
        "\n",
        "# convert class vectors to binary class matrices\n",
        "y_train = keras.utils.to_categorical(y_train, num_classes)\n",
        "y_test = keras.utils.to_categorical(y_test, num_classes)"
      ],
      "execution_count": 63,
      "outputs": [
        {
          "output_type": "stream",
          "text": [
            "x_train shape: (60000, 28, 28, 1)\n",
            "60000 train samples\n",
            "10000 test samples\n"
          ],
          "name": "stdout"
        }
      ]
    },
    {
      "cell_type": "code",
      "metadata": {
        "id": "Jj8Wb8SyI_K1",
        "colab_type": "code",
        "colab": {}
      },
      "source": [
        "#custom activation function for ISRLU.\n",
        "@tf.function\n",
        "def isrlu(x, alpha = 3):\n",
        "  if tf.math.sign(x) == -1:\n",
        "    return (x/(tf.math.sqrt(1 + alpha * tf.math.square(x, x))))\n",
        "  else:\n",
        "    return x\n",
        "\n",
        "get_custom_objects().update({'isrlu':Activation(isrlu)})"
      ],
      "execution_count": 0,
      "outputs": []
    },
    {
      "cell_type": "code",
      "metadata": {
        "id": "bk5ivs0qRkDT",
        "colab_type": "code",
        "colab": {
          "base_uri": "https://localhost:8080/",
          "height": 85
        },
        "outputId": "233487ee-43b5-40aa-ec75-a114a2448c15"
      },
      "source": [
        "!pip install pyyaml h5py\n",
        "\n",
        "from __future__ import absolute_import, division, print_function, unicode_literals\n"
      ],
      "execution_count": 65,
      "outputs": [
        {
          "output_type": "stream",
          "text": [
            "Requirement already satisfied: pyyaml in /usr/local/lib/python3.6/dist-packages (3.13)\n",
            "Requirement already satisfied: h5py in /usr/local/lib/python3.6/dist-packages (2.8.0)\n",
            "Requirement already satisfied: six in /usr/local/lib/python3.6/dist-packages (from h5py) (1.12.0)\n",
            "Requirement already satisfied: numpy>=1.7 in /usr/local/lib/python3.6/dist-packages (from h5py) (1.17.4)\n"
          ],
          "name": "stdout"
        }
      ]
    },
    {
      "cell_type": "code",
      "metadata": {
        "id": "GwxSi8O4I_Nz",
        "colab_type": "code",
        "outputId": "8297ed32-6fc3-4c48-efaf-89885e958f32",
        "colab": {
          "base_uri": "https://localhost:8080/",
          "height": 493
        }
      },
      "source": [
        "#building the model \n",
        "model = Sequential()\n",
        "model.add(Conv2D(8, kernel_size=(3, 3), activation='relu', input_shape=input_shape))\n",
        "model.add(MaxPooling2D(pool_size=(2, 2)))\n",
        "model.add(Conv2D(16, (3, 3), activation='relu'))\n",
        "model.add(MaxPooling2D(pool_size=(2, 2)))\n",
        "model.add(Dropout(0.25))\n",
        "model.add(Flatten())\n",
        "#model.add(Dense(32, activation=isrlu))\n",
        "model.add(Dense(32))\n",
        "model.add(Activation(isrlu))\n",
        "model.add(Dropout(0.5))\n",
        "model.add(Dense(num_classes, activation='softmax'))\n",
        "\n",
        "model.compile(loss=keras.losses.categorical_crossentropy,\n",
        "              optimizer='adam',\n",
        "              metrics=['accuracy'])\n",
        "  \n",
        "  \n",
        "\n",
        "#model = create_model()\n",
        "model.summary()"
      ],
      "execution_count": 68,
      "outputs": [
        {
          "output_type": "stream",
          "text": [
            "Model: \"sequential_3\"\n",
            "_________________________________________________________________\n",
            "Layer (type)                 Output Shape              Param #   \n",
            "=================================================================\n",
            "conv2d_6 (Conv2D)            (None, 26, 26, 8)         80        \n",
            "_________________________________________________________________\n",
            "max_pooling2d_6 (MaxPooling2 (None, 13, 13, 8)         0         \n",
            "_________________________________________________________________\n",
            "conv2d_7 (Conv2D)            (None, 11, 11, 16)        1168      \n",
            "_________________________________________________________________\n",
            "max_pooling2d_7 (MaxPooling2 (None, 5, 5, 16)          0         \n",
            "_________________________________________________________________\n",
            "dropout_6 (Dropout)          (None, 5, 5, 16)          0         \n",
            "_________________________________________________________________\n",
            "flatten_3 (Flatten)          (None, 400)               0         \n",
            "_________________________________________________________________\n",
            "dense_6 (Dense)              (None, 32)                12832     \n",
            "_________________________________________________________________\n",
            "activation_4 (Activation)    (None, 32)                0         \n",
            "_________________________________________________________________\n",
            "dropout_7 (Dropout)          (None, 32)                0         \n",
            "_________________________________________________________________\n",
            "dense_7 (Dense)              (None, 10)                330       \n",
            "=================================================================\n",
            "Total params: 14,410\n",
            "Trainable params: 14,410\n",
            "Non-trainable params: 0\n",
            "_________________________________________________________________\n"
          ],
          "name": "stdout"
        }
      ]
    },
    {
      "cell_type": "code",
      "metadata": {
        "id": "DW9UeW7EI_Je",
        "colab_type": "code",
        "outputId": "579ba8c2-700a-4861-95ba-7239fcc9ddbc",
        "colab": {
          "base_uri": "https://localhost:8080/",
          "height": 561
        }
      },
      "source": [
        "#model training\n",
        "model.fit(x_train, y_train,\n",
        "          batch_size=batch_size,\n",
        "          epochs=epochs,\n",
        "          verbose=1,\n",
        "          validation_data=(x_test, y_test))"
      ],
      "execution_count": 69,
      "outputs": [
        {
          "output_type": "stream",
          "text": [
            "Train on 60000 samples, validate on 10000 samples\n",
            "Epoch 1/15\n",
            "60000/60000 [==============================] - 2s 36us/sample - loss: 0.6279 - acc: 0.8021 - val_loss: 0.1339 - val_acc: 0.9605\n",
            "Epoch 2/15\n",
            "60000/60000 [==============================] - 2s 31us/sample - loss: 0.2495 - acc: 0.9252 - val_loss: 0.0901 - val_acc: 0.9723\n",
            "Epoch 3/15\n",
            "60000/60000 [==============================] - 2s 30us/sample - loss: 0.1922 - acc: 0.9421 - val_loss: 0.0695 - val_acc: 0.9774\n",
            "Epoch 4/15\n",
            "60000/60000 [==============================] - 2s 32us/sample - loss: 0.1666 - acc: 0.9509 - val_loss: 0.0588 - val_acc: 0.9803\n",
            "Epoch 5/15\n",
            "60000/60000 [==============================] - 2s 31us/sample - loss: 0.1506 - acc: 0.9552 - val_loss: 0.0538 - val_acc: 0.9816\n",
            "Epoch 6/15\n",
            "60000/60000 [==============================] - 2s 30us/sample - loss: 0.1368 - acc: 0.9593 - val_loss: 0.0485 - val_acc: 0.9837\n",
            "Epoch 7/15\n",
            "60000/60000 [==============================] - 2s 31us/sample - loss: 0.1239 - acc: 0.9629 - val_loss: 0.0455 - val_acc: 0.9843\n",
            "Epoch 8/15\n",
            "60000/60000 [==============================] - 2s 31us/sample - loss: 0.1223 - acc: 0.9649 - val_loss: 0.0438 - val_acc: 0.9861\n",
            "Epoch 9/15\n",
            "60000/60000 [==============================] - 2s 31us/sample - loss: 0.1139 - acc: 0.9661 - val_loss: 0.0423 - val_acc: 0.9851\n",
            "Epoch 10/15\n",
            "60000/60000 [==============================] - 2s 30us/sample - loss: 0.1119 - acc: 0.9673 - val_loss: 0.0390 - val_acc: 0.9876\n",
            "Epoch 11/15\n",
            "60000/60000 [==============================] - 2s 31us/sample - loss: 0.1054 - acc: 0.9690 - val_loss: 0.0385 - val_acc: 0.9866\n",
            "Epoch 12/15\n",
            "60000/60000 [==============================] - 2s 31us/sample - loss: 0.1015 - acc: 0.9699 - val_loss: 0.0345 - val_acc: 0.9885\n",
            "Epoch 13/15\n",
            "60000/60000 [==============================] - 2s 30us/sample - loss: 0.0994 - acc: 0.9710 - val_loss: 0.0340 - val_acc: 0.9884\n",
            "Epoch 14/15\n",
            "60000/60000 [==============================] - 2s 30us/sample - loss: 0.0964 - acc: 0.9720 - val_loss: 0.0323 - val_acc: 0.9892\n",
            "Epoch 15/15\n",
            "60000/60000 [==============================] - 2s 31us/sample - loss: 0.0935 - acc: 0.9722 - val_loss: 0.0332 - val_acc: 0.9887\n"
          ],
          "name": "stdout"
        },
        {
          "output_type": "execute_result",
          "data": {
            "text/plain": [
              "<tensorflow.python.keras.callbacks.History at 0x7f67946caf98>"
            ]
          },
          "metadata": {
            "tags": []
          },
          "execution_count": 69
        }
      ]
    },
    {
      "cell_type": "code",
      "metadata": {
        "id": "UfevVriUJG4H",
        "colab_type": "code",
        "outputId": "ec2aa572-96e0-4099-fbd5-9107d43e8be9",
        "colab": {
          "base_uri": "https://localhost:8080/",
          "height": 51
        }
      },
      "source": [
        "#testing\n",
        "score = model.evaluate(x_test, y_test, verbose=0)\n",
        "print('Test loss:', score[0])\n",
        "print('Test accuracy:', score[1])"
      ],
      "execution_count": 70,
      "outputs": [
        {
          "output_type": "stream",
          "text": [
            "Test loss: 0.033188269110181134\n",
            "Test accuracy: 0.9887\n"
          ],
          "name": "stdout"
        }
      ]
    },
    {
      "cell_type": "code",
      "metadata": {
        "id": "AHvKyc_DJMLk",
        "colab_type": "code",
        "outputId": "b6f0673f-ed2a-4040-9206-2aad1b268c53",
        "colab": {
          "base_uri": "https://localhost:8080/",
          "height": 265
        }
      },
      "source": [
        "#prediction\n",
        "import pylab as plt\n",
        "\n",
        "plt.imshow(x_test[140:141].reshape(28,28),cmap='gray')\n",
        "plt.show()"
      ],
      "execution_count": 71,
      "outputs": [
        {
          "output_type": "display_data",
          "data": {
            "image/png": "[encoded data removed]",
            "text/plain": [
              "<Figure size 432x288 with 1 Axes>"
            ]
          },
          "metadata": {
            "tags": []
          }
        }
      ]
    },
    {
      "cell_type": "code",
      "metadata": {
        "id": "2KfTEY1wJPkY",
        "colab_type": "code",
        "outputId": "da96480a-f8e1-4d07-b922-ae5d12d40b3e",
        "colab": {
          "base_uri": "https://localhost:8080/",
          "height": 170
        }
      },
      "source": [
        "import numpy as np\n",
        "prediction = model.predict(x_test[130:131])\n",
        "print('Prediction Score:\\n',prediction[0])\n",
        "thresholded = (prediction>0.5)*1\n",
        "print('\\nThresholded Score:\\n',thresholded[0])\n",
        "print('\\nPredicted Digit:\\n',np.where(thresholded == 1)[1][0])"
      ],
      "execution_count": 72,
      "outputs": [
        {
          "output_type": "stream",
          "text": [
            "Prediction Score:\n",
            " [1.5557437e-06 7.6964746e-09 8.7423988e-09 4.3479980e-09 3.9921514e-07\n",
            " 1.2634636e-05 9.9998212e-01 1.2542473e-10 3.2042844e-06 9.1865815e-08]\n",
            "\n",
            "Thresholded Score:\n",
            " [0 0 0 0 0 0 1 0 0 0]\n",
            "\n",
            "Predicted Digit:\n",
            " 6\n"
          ],
          "name": "stdout"
        }
      ]
    },
    {
      "cell_type": "code",
      "metadata": {
        "id": "c6pP6o83N5aP",
        "colab_type": "code",
        "colab": {
          "base_uri": "https://localhost:8080/",
          "height": 34
        },
        "outputId": "39c529b4-5f31-4c5d-a3d0-03a67305193d"
      },
      "source": [
        "import os \n",
        "print(os.getcwd())"
      ],
      "execution_count": 73,
      "outputs": [
        {
          "output_type": "stream",
          "text": [
            "/content/drive/My Drive/Colab Notebooks/ISRLU\n"
          ],
          "name": "stdout"
        }
      ]
    },
    {
      "cell_type": "code",
      "metadata": {
        "id": "QtIarGoMb94W",
        "colab_type": "code",
        "colab": {
          "base_uri": "https://localhost:8080/",
          "height": 34
        },
        "outputId": "102c9d82-e618-4199-c5ba-8177aa4a4909"
      },
      "source": [
        "os.listdir()"
      ],
      "execution_count": 74,
      "outputs": [
        {
          "output_type": "execute_result",
          "data": {
            "text/plain": [
              "['ISRLU_Model.ipynb', 'isrlu_model.h5']"
            ]
          },
          "metadata": {
            "tags": []
          },
          "execution_count": 74
        }
      ]
    },
    {
      "cell_type": "code",
      "metadata": {
        "id": "NbVuUK_kcC9c",
        "colab_type": "code",
        "colab": {}
      },
      "source": [
        "model.save('isrlu_model.h5')"
      ],
      "execution_count": 0,
      "outputs": []
    },
    {
      "cell_type": "code",
      "metadata": {
        "id": "G3V8szOpcbW-",
        "colab_type": "code",
        "colab": {
          "base_uri": "https://localhost:8080/",
          "height": 34
        },
        "outputId": "bae5fd35-851b-4a22-b890-22eac0b6a584"
      },
      "source": [
        "model.save('.',save_format = 'tf')"
      ],
      "execution_count": 76,
      "outputs": [
        {
          "output_type": "stream",
          "text": [
            "INFO:tensorflow:Assets written to: ./assets\n"
          ],
          "name": "stdout"
        }
      ]
    },
    {
      "cell_type": "code",
      "metadata": {
        "id": "7wrew7qJcnFj",
        "colab_type": "code",
        "colab": {}
      },
      "source": [
        "new_model = tf.keras.models.load_model(\"/content/drive/My Drive/Colab Notebooks/ISRLU/\")"
      ],
      "execution_count": 0,
      "outputs": []
    },
    {
      "cell_type": "code",
      "metadata": {
        "id": "AtHxGc-NeR72",
        "colab_type": "code",
        "colab": {
          "base_uri": "https://localhost:8080/",
          "height": 493
        },
        "outputId": "834f47ae-1df2-475a-83a7-e6cbc4fcdb42"
      },
      "source": [
        "new_model.summary()"
      ],
      "execution_count": 79,
      "outputs": [
        {
          "output_type": "stream",
          "text": [
            "Model: \"sequential_3\"\n",
            "_________________________________________________________________\n",
            "Layer (type)                 Output Shape              Param #   \n",
            "=================================================================\n",
            "conv2d_6 (Conv2D)            (None, 26, 26, 8)         80        \n",
            "_________________________________________________________________\n",
            "max_pooling2d_6 (MaxPooling2 (None, 13, 13, 8)         0         \n",
            "_________________________________________________________________\n",
            "conv2d_7 (Conv2D)            (None, 11, 11, 16)        1168      \n",
            "_________________________________________________________________\n",
            "max_pooling2d_7 (MaxPooling2 (None, 5, 5, 16)          0         \n",
            "_________________________________________________________________\n",
            "dropout_6 (Dropout)          (None, 5, 5, 16)          0         \n",
            "_________________________________________________________________\n",
            "flatten_3 (Flatten)          (None, 400)               0         \n",
            "_________________________________________________________________\n",
            "dense_6 (Dense)              (None, 32)                12832     \n",
            "_________________________________________________________________\n",
            "activation_4 (Activation)    (None, 32)                0         \n",
            "_________________________________________________________________\n",
            "dropout_7 (Dropout)          (None, 32)                0         \n",
            "_________________________________________________________________\n",
            "dense_7 (Dense)              (None, 10)                330       \n",
            "=================================================================\n",
            "Total params: 14,410\n",
            "Trainable params: 14,410\n",
            "Non-trainable params: 0\n",
            "_________________________________________________________________\n"
          ],
          "name": "stdout"
        }
      ]
    },
    {
      "cell_type": "code",
      "metadata": {
        "id": "akM4SC2reYDW",
        "colab_type": "code",
        "colab": {
          "base_uri": "https://localhost:8080/",
          "height": 170
        },
        "outputId": "82e3864e-16d5-4786-9bdd-25d6b3b53a96"
      },
      "source": [
        "prediction = new_model.predict(x_test[130:131])\n",
        "print('Prediction Score:\\n',prediction[0])\n",
        "thresholded = (prediction>0.5)*1\n",
        "print('\\nThresholded Score:\\n',thresholded[0])\n",
        "print('\\nPredicted Digit:\\n',np.where(thresholded == 1)[1][0])"
      ],
      "execution_count": 80,
      "outputs": [
        {
          "output_type": "stream",
          "text": [
            "Prediction Score:\n",
            " [1.5557437e-06 7.6964746e-09 8.7423988e-09 4.3479980e-09 3.9921514e-07\n",
            " 1.2634636e-05 9.9998212e-01 1.2542473e-10 3.2042844e-06 9.1865815e-08]\n",
            "\n",
            "Thresholded Score:\n",
            " [0 0 0 0 0 0 1 0 0 0]\n",
            "\n",
            "Predicted Digit:\n",
            " 6\n"
          ],
          "name": "stdout"
        }
      ]
    },
    {
      "cell_type": "code",
      "metadata": {
        "id": "lxCd6rfGe2Ku",
        "colab_type": "code",
        "colab": {}
      },
      "source": [
        ""
      ],
      "execution_count": 0,
      "outputs": []
    }
  ]
}